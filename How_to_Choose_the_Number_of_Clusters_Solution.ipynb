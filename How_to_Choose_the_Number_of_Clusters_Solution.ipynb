{
  "nbformat": 4,
  "nbformat_minor": 0,
  "metadata": {
    "kernelspec": {
      "display_name": "Python 3",
      "language": "python",
      "name": "python3"
    },
    "language_info": {
      "codemirror_mode": {
        "name": "ipython",
        "version": 3
      },
      "file_extension": ".py",
      "mimetype": "text/x-python",
      "name": "python",
      "nbconvert_exporter": "python",
      "pygments_lexer": "ipython3",
      "version": "3.6.4"
    },
    "colab": {
      "name": "How to Choose the Number of Clusters - Solution.ipynb",
      "provenance": [],
      "include_colab_link": true
    }
  },
  "cells": [
    {
      "cell_type": "markdown",
      "metadata": {
        "id": "view-in-github",
        "colab_type": "text"
      },
      "source": [
        "<a href=\"https://colab.research.google.com/github/chpb1982/Numbers/blob/master/How_to_Choose_the_Number_of_Clusters_Solution.ipynb\" target=\"_parent\"><img src=\"https://colab.research.google.com/assets/colab-badge.svg\" alt=\"Open In Colab\"/></a>"
      ]
    },
    {
      "cell_type": "markdown",
      "metadata": {
        "id": "hsZ-MnNNTAxb",
        "colab_type": "text"
      },
      "source": [
        "# How to Choose the Number of Clusters "
      ]
    },
    {
      "cell_type": "markdown",
      "metadata": {
        "id": "Yn5piBj8TAxd",
        "colab_type": "text"
      },
      "source": [
        "Using the same code as in the previous exercise, find the WCSS for clustering solutions with 1 to 10 clusters (you can try with more if you wish).\n",
        "\n",
        "Find the most suitable solutions, run them and compare the results."
      ]
    },
    {
      "cell_type": "markdown",
      "metadata": {
        "id": "vliYsOA6TAxf",
        "colab_type": "text"
      },
      "source": [
        "## Import the relevant libraries"
      ]
    },
    {
      "cell_type": "code",
      "metadata": {
        "id": "czirNNflTAxh",
        "colab_type": "code",
        "colab": {}
      },
      "source": [
        "import numpy as np\n",
        "import pandas as pd\n",
        "import matplotlib.pyplot as plt\n",
        "import seaborn as sns\n",
        "sns.set()\n",
        "from sklearn.cluster import KMeans"
      ],
      "execution_count": 0,
      "outputs": []
    },
    {
      "cell_type": "markdown",
      "metadata": {
        "id": "5SAcUXFdTAxq",
        "colab_type": "text"
      },
      "source": [
        "## Load the data"
      ]
    },
    {
      "cell_type": "markdown",
      "metadata": {
        "id": "Ms7MGzvITAxr",
        "colab_type": "text"
      },
      "source": [
        "Load data from the csv file: <i> 'Countries_exercise.csv'</i>."
      ]
    },
    {
      "cell_type": "code",
      "metadata": {
        "scrolled": true,
        "id": "btMmWHVOTAxt",
        "colab_type": "code",
        "colab": {}
      },
      "source": [
        "# Load the data\n",
        "raw_data = pd.read_csv('Countries_exercise.csv')\n",
        "# Check the data\n",
        "raw_data"
      ],
      "execution_count": 0,
      "outputs": []
    },
    {
      "cell_type": "markdown",
      "metadata": {
        "id": "XEnvFQgATAx0",
        "colab_type": "text"
      },
      "source": [
        "## Plot the data"
      ]
    },
    {
      "cell_type": "markdown",
      "metadata": {
        "id": "bmSsCMgdTAx1",
        "colab_type": "text"
      },
      "source": [
        "Plot the <i>'Longtitude'</i> and <i>'Latitude'</i> columns. "
      ]
    },
    {
      "cell_type": "code",
      "metadata": {
        "id": "VhH2N8FsTAx2",
        "colab_type": "code",
        "colab": {}
      },
      "source": [
        "plt.scatter(data['Longitude'], data['Latitude'])\n",
        "plt.xlim(-180,180)\n",
        "plt.ylim(-90, 90)\n",
        "plt.show()"
      ],
      "execution_count": 0,
      "outputs": []
    },
    {
      "cell_type": "markdown",
      "metadata": {
        "id": "gRdcv0GJTAx8",
        "colab_type": "text"
      },
      "source": [
        "## Select the features"
      ]
    },
    {
      "cell_type": "markdown",
      "metadata": {
        "id": "I7Q46TYTTAx-",
        "colab_type": "text"
      },
      "source": [
        "Make sure to select the appropriate features since we are no longer using the categorical variable for our clustering but rather 'Longitude' and 'Laditude'."
      ]
    },
    {
      "cell_type": "code",
      "metadata": {
        "scrolled": true,
        "id": "p6Y0_x-nTAx_",
        "colab_type": "code",
        "colab": {}
      },
      "source": [
        "x = data.iloc[:,1:3]\n",
        "x"
      ],
      "execution_count": 0,
      "outputs": []
    },
    {
      "cell_type": "markdown",
      "metadata": {
        "id": "7V0rGtg7TAyH",
        "colab_type": "text"
      },
      "source": [
        "## Clustering"
      ]
    },
    {
      "cell_type": "markdown",
      "metadata": {
        "id": "MPebKgr3TAyJ",
        "colab_type": "text"
      },
      "source": [
        "Use 4 clusters initially. "
      ]
    },
    {
      "cell_type": "code",
      "metadata": {
        "id": "YPv6EzyZTAyK",
        "colab_type": "code",
        "colab": {}
      },
      "source": [
        "kmeans = KMeans(4)"
      ],
      "execution_count": 0,
      "outputs": []
    },
    {
      "cell_type": "code",
      "metadata": {
        "id": "n4kCroUoTAyU",
        "colab_type": "code",
        "colab": {}
      },
      "source": [
        "kmeans.fit(x)"
      ],
      "execution_count": 0,
      "outputs": []
    },
    {
      "cell_type": "markdown",
      "metadata": {
        "id": "vYu1sDg_TAyZ",
        "colab_type": "text"
      },
      "source": [
        "### Clustering Resutls"
      ]
    },
    {
      "cell_type": "code",
      "metadata": {
        "id": "juNunBeATAya",
        "colab_type": "code",
        "colab": {}
      },
      "source": [
        "identified_clusters = kmeans.fit_predict(x)\n",
        "identified_clusters"
      ],
      "execution_count": 0,
      "outputs": []
    },
    {
      "cell_type": "code",
      "metadata": {
        "scrolled": true,
        "id": "eCLdJUyUTAyp",
        "colab_type": "code",
        "colab": {}
      },
      "source": [
        "data_with_clusters = data.copy()\n",
        "data_with_clusters['Cluster'] = identified_clusters\n",
        "data_with_clusters"
      ],
      "execution_count": 0,
      "outputs": []
    },
    {
      "cell_type": "markdown",
      "metadata": {
        "id": "T5zk-w4LTAyv",
        "colab_type": "text"
      },
      "source": [
        "Plot the data once again. This time use the <i> c </i> parameter to separate the data by the clusters we defined.  "
      ]
    },
    {
      "cell_type": "code",
      "metadata": {
        "scrolled": true,
        "id": "IOGRxeLzTAyx",
        "colab_type": "code",
        "colab": {}
      },
      "source": [
        "plt.scatter(data['Longitude'], data['Latitude'], c=data_with_clusters['Cluster'], cmap = 'rainbow')\n",
        "plt.xlim(-180,180)\n",
        "plt.ylim(-90, 90)\n",
        "plt.show()"
      ],
      "execution_count": 0,
      "outputs": []
    },
    {
      "cell_type": "markdown",
      "metadata": {
        "id": "hCYvq4vXTAy5",
        "colab_type": "text"
      },
      "source": [
        "## Selecting the number of clusters"
      ]
    },
    {
      "cell_type": "markdown",
      "metadata": {
        "id": "fkLAllPTTAy6",
        "colab_type": "text"
      },
      "source": [
        "### WCSS"
      ]
    },
    {
      "cell_type": "markdown",
      "metadata": {
        "id": "ffbJDqWtTAy7",
        "colab_type": "text"
      },
      "source": [
        "Use the ingerated <i>sklearn</i> method <i> 'inertia_' </i>."
      ]
    },
    {
      "cell_type": "code",
      "metadata": {
        "id": "ZB34hIm-TAy8",
        "colab_type": "code",
        "colab": {}
      },
      "source": [
        "kmeans.inertia_"
      ],
      "execution_count": 0,
      "outputs": []
    },
    {
      "cell_type": "markdown",
      "metadata": {
        "id": "j7jG4VRoTAzC",
        "colab_type": "text"
      },
      "source": [
        "Write a loop that calculates and saves the WCSS for any number of clusters from 1 up to 10 (or more if you wish)."
      ]
    },
    {
      "cell_type": "code",
      "metadata": {
        "id": "L1g1qrudTAzE",
        "colab_type": "code",
        "colab": {}
      },
      "source": [
        "wcss = []\n",
        "# 'cl_num' is a that keeps track the highest number of clusters we want to use the WCSS method for.\n",
        "# Note that 'range' doesn't include the upper boundery\n",
        "cl_num = 11\n",
        "for i in range (1,cl_num):\n",
        "    kmeans= KMeans(i)\n",
        "    kmeans.fit(x)\n",
        "    wcss_iter = kmeans.inertia_\n",
        "    wcss.append(wcss_iter)"
      ],
      "execution_count": 0,
      "outputs": []
    },
    {
      "cell_type": "code",
      "metadata": {
        "id": "p5hDXypoTAzK",
        "colab_type": "code",
        "colab": {}
      },
      "source": [
        "wcss"
      ],
      "execution_count": 0,
      "outputs": []
    },
    {
      "cell_type": "markdown",
      "metadata": {
        "id": "zWf2110sTAzR",
        "colab_type": "text"
      },
      "source": [
        "### The Elbow Method"
      ]
    },
    {
      "cell_type": "code",
      "metadata": {
        "id": "h07Xh37vTAzS",
        "colab_type": "code",
        "colab": {}
      },
      "source": [
        "number_clusters = range(1,cl_num)\n",
        "plt.plot(number_clusters, wcss)\n",
        "plt.title('The Elbow Method')\n",
        "plt.xlabel('Number of clusters')\n",
        "plt.ylabel('Within-cluster Sum of Squares')"
      ],
      "execution_count": 0,
      "outputs": []
    },
    {
      "cell_type": "markdown",
      "metadata": {
        "id": "CWy7uP5-TAzZ",
        "colab_type": "text"
      },
      "source": [
        "Based on the Elbow Curve, plot several graphs with the appropriate amount of clusters you believe would best fit the data."
      ]
    },
    {
      "cell_type": "markdown",
      "metadata": {
        "id": "hnknmEyjTAzb",
        "colab_type": "text"
      },
      "source": [
        "In this this specific case, that would be 2 or 3.\n",
        "Compare the scatter plots to determine which one to use in any further analysis. "
      ]
    },
    {
      "cell_type": "markdown",
      "metadata": {
        "id": "JD20_EIiTAzc",
        "colab_type": "text"
      },
      "source": [
        "<i>Hint: we already created the scatter plot for 4 clusters, so we only have to slightly alter our code.</i>"
      ]
    },
    {
      "cell_type": "code",
      "metadata": {
        "id": "sKeY_rOVTAze",
        "colab_type": "code",
        "colab": {}
      },
      "source": [
        "kmeans = KMeans(2)\n",
        "kmeans.fit(x)"
      ],
      "execution_count": 0,
      "outputs": []
    },
    {
      "cell_type": "code",
      "metadata": {
        "id": "kb_MjiZSTAzj",
        "colab_type": "code",
        "colab": {}
      },
      "source": [
        "identified_clusters = kmeans.fit_predict(x)"
      ],
      "execution_count": 0,
      "outputs": []
    },
    {
      "cell_type": "code",
      "metadata": {
        "id": "3L3fdvp4TAzr",
        "colab_type": "code",
        "colab": {}
      },
      "source": [
        "data_with_clusters = data.copy()\n",
        "data_with_clusters['Cluster'] = identified_clusters"
      ],
      "execution_count": 0,
      "outputs": []
    },
    {
      "cell_type": "code",
      "metadata": {
        "id": "MxqWYUjcTAzx",
        "colab_type": "code",
        "colab": {}
      },
      "source": [
        "plt.scatter(data['Longitude'], data['Latitude'], c=data_with_clusters['Cluster'], cmap = 'rainbow')\n",
        "plt.xlim(-180,180)\n",
        "plt.ylim(-90, 90)\n",
        "plt.show()"
      ],
      "execution_count": 0,
      "outputs": []
    },
    {
      "cell_type": "code",
      "metadata": {
        "id": "GSA7XMEBTAz3",
        "colab_type": "code",
        "colab": {}
      },
      "source": [
        "kmeans = KMeans(3)\n",
        "kmeans.fit(x)"
      ],
      "execution_count": 0,
      "outputs": []
    },
    {
      "cell_type": "code",
      "metadata": {
        "id": "5l3r6JsfTAz8",
        "colab_type": "code",
        "colab": {}
      },
      "source": [
        "identified_clusters = kmeans.fit_predict(x)"
      ],
      "execution_count": 0,
      "outputs": []
    },
    {
      "cell_type": "code",
      "metadata": {
        "id": "0BylphlCTA0B",
        "colab_type": "code",
        "colab": {}
      },
      "source": [
        "data_with_clusters = data.copy()\n",
        "data_with_clusters['Cluster'] = identified_clusters"
      ],
      "execution_count": 0,
      "outputs": []
    },
    {
      "cell_type": "code",
      "metadata": {
        "id": "EHfaRGO7TA0I",
        "colab_type": "code",
        "colab": {}
      },
      "source": [
        "plt.scatter(data['Longitude'], data['Latitude'], c=data_with_clusters['Cluster'], cmap = 'rainbow')\n",
        "plt.xlim(-180,180)\n",
        "plt.ylim(-90, 90)\n",
        "plt.show()"
      ],
      "execution_count": 0,
      "outputs": []
    },
    {
      "cell_type": "markdown",
      "metadata": {
        "id": "Zv6mxidYTA0P",
        "colab_type": "text"
      },
      "source": [
        "Think about the geological developments of Earth and how it split from one big continent (Pangea) into smaller multiple smaller ones. "
      ]
    }
  ]
}