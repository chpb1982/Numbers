{
  "nbformat": 4,
  "nbformat_minor": 0,
  "metadata": {
    "colab": {
      "name": "Losswise Example.ipynb",
      "provenance": [],
      "collapsed_sections": [],
      "include_colab_link": true
    },
    "kernelspec": {
      "name": "python3",
      "display_name": "Python 3"
    }
  },
  "cells": [
    {
      "cell_type": "markdown",
      "metadata": {
        "id": "view-in-github",
        "colab_type": "text"
      },
      "source": [
        "<a href=\"https://colab.research.google.com/github/chpb1982/Numbers/blob/master/Losswise_Example.ipynb\" target=\"_parent\"><img src=\"https://colab.research.google.com/assets/colab-badge.svg\" alt=\"Open In Colab\"/></a>"
      ]
    },
    {
      "cell_type": "code",
      "metadata": {
        "id": "QXC2cm_Wpwgw",
        "colab_type": "code",
        "outputId": "28604c6e-5eb0-474b-a7bf-96e44f8d48d8",
        "colab": {
          "base_uri": "https://localhost:8080/",
          "height": 191
        }
      },
      "source": [
        "!pip install losswise"
      ],
      "execution_count": 0,
      "outputs": [
        {
          "output_type": "stream",
          "text": [
            "Collecting losswise\n",
            "  Downloading https://files.pythonhosted.org/packages/2f/56/5112133c970b9a1959cb3f221db6250beb5983adc95455f4681eba3cfcd8/losswise-2.6-py2.py3-none-any.whl\n",
            "Requirement already satisfied: six>=1.9.0 in /usr/local/lib/python3.6/dist-packages (from losswise) (1.11.0)\n",
            "Requirement already satisfied: requests>=2.9.1 in /usr/local/lib/python3.6/dist-packages (from losswise) (2.18.4)\n",
            "Requirement already satisfied: chardet<3.1.0,>=3.0.2 in /usr/local/lib/python3.6/dist-packages (from requests>=2.9.1->losswise) (3.0.4)\n",
            "Requirement already satisfied: idna<2.7,>=2.5 in /usr/local/lib/python3.6/dist-packages (from requests>=2.9.1->losswise) (2.6)\n",
            "Requirement already satisfied: certifi>=2017.4.17 in /usr/local/lib/python3.6/dist-packages (from requests>=2.9.1->losswise) (2018.4.16)\n",
            "Requirement already satisfied: urllib3<1.23,>=1.21.1 in /usr/local/lib/python3.6/dist-packages (from requests>=2.9.1->losswise) (1.22)\n",
            "Installing collected packages: losswise\n",
            "Successfully installed losswise-2.6\n"
          ],
          "name": "stdout"
        }
      ]
    },
    {
      "cell_type": "code",
      "metadata": {
        "id": "BrrIK3WLprSU",
        "colab_type": "code",
        "colab": {}
      },
      "source": [
        "import getpass\n",
        "import losswise"
      ],
      "execution_count": 0,
      "outputs": []
    },
    {
      "cell_type": "code",
      "metadata": {
        "id": "FatzBvJTpyzt",
        "colab_type": "code",
        "outputId": "df837e85-1db4-42b7-d8b0-74eef97009ec",
        "colab": {
          "base_uri": "https://localhost:8080/",
          "height": 34
        }
      },
      "source": [
        "losswise.set_api_key(getpass.getpass('Enter your losswise API Token '))"
      ],
      "execution_count": 0,
      "outputs": [
        {
          "output_type": "stream",
          "text": [
            "Enter your losswise API Token ··········\n"
          ],
          "name": "stdout"
        }
      ]
    },
    {
      "cell_type": "code",
      "metadata": {
        "id": "KqpRKHZCqevL",
        "colab_type": "code",
        "outputId": "2a4c3646-614b-44b5-db7e-6a2e9fe7a611",
        "colab": {
          "base_uri": "https://localhost:8080/",
          "height": 52
        }
      },
      "source": [
        "# Minimal Example from https://docs.losswise.com/#introduction\n",
        "import random\n",
        "import time\n",
        "\n",
        "session = losswise.Session(tag='my_special_lstm', params={'rnn_size': 512}, max_iter=10)\n",
        "graph = session.graph('loss', kind='min')\n",
        "for x in range(10):\n",
        "    train_loss = 1. / (0.1 + x + 0.1 * random.random())\n",
        "    test_loss = 1.5 / (0.1 + x + 0.2 * random.random())\n",
        "    graph.append(x,{'train_loss': train_loss, 'test_loss': test_loss})\n",
        "    time.sleep(1.)\n",
        "session.done()"
      ],
      "execution_count": 0,
      "outputs": [
        {
          "output_type": "stream",
          "text": [
            "Losswise: choosing optimal display_interval = 1 for \"loss\" graph.\n",
            "You may override this default behavior by manually setting display_interval yourself.\n"
          ],
          "name": "stdout"
        }
      ]
    }
  ]
}